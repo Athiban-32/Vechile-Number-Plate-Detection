{
 "cells": [
  {
   "cell_type": "code",
   "execution_count": 2,
   "metadata": {},
   "outputs": [],
   "source": [
    "import numpy as np\n",
    "import os\n",
    "import six.moves.urllib as urllib\n",
    "import sys\n",
    "import tarfile\n",
    "import tensorflow as tf\n",
    "import zipfile\n",
    "\n",
    "from distutils.version import StrictVersion\n",
    "from collections import defaultdict\n",
    "from io import StringIO\n",
    "from matplotlib import pyplot as plt\n",
    "import pandas as pd\n",
    "from PIL import Image\n",
    "import easyocr as ocr\n",
    " \n",
    "import cv2\n"
   ]
  },
  {
   "cell_type": "code",
   "execution_count": 3,
   "metadata": {},
   "outputs": [],
   "source": [
    "from object_detection.utils import label_map_util\n",
    "\n",
    "#from object_detection.utils import visualization_utils as vis_util"
   ]
  },
  {
   "cell_type": "code",
   "execution_count": 4,
   "metadata": {},
   "outputs": [],
   "source": [
    "# What model to download.\n",
    "MODEL_NAME = 'auto_no_plate_detection_model'\n",
    "#MODEL_FILE = MODEL_NAME + '.tar.gz'\n",
    "#DOWNLOAD_BASE = 'http://download.tensorflow.org/models/object_detection/'\n",
    "\n",
    "# Path to frozen detection graph. This is the actual model that is used for the object detection.\n",
    "PATH_TO_FROZEN_GRAPH = MODEL_NAME + '/frozen_inference_graph.pb'\n",
    "\n",
    "# List of the strings that is used to add correct label for each box.\n",
    "PATH_TO_LABELS = os.path.join('training', 'classes.pbtxt')"
   ]
  },
  {
   "cell_type": "code",
   "execution_count": 19,
   "metadata": {},
   "outputs": [],
   "source": [
    "#for video\n",
    "#cap = cv2.VideoCapture(0)"
   ]
  },
  {
   "cell_type": "code",
   "execution_count": 5,
   "metadata": {},
   "outputs": [],
   "source": [
    "detection_graph = tf.Graph()\n",
    "with detection_graph.as_default():\n",
    "  od_graph_def = tf.GraphDef()\n",
    "  with tf.gfile.GFile(PATH_TO_FROZEN_GRAPH, 'rb') as fid:\n",
    "    serialized_graph = fid.read()\n",
    "    od_graph_def.ParseFromString(serialized_graph)\n",
    "    tf.import_graph_def(od_graph_def, name='')"
   ]
  },
  {
   "cell_type": "code",
   "execution_count": 6,
   "metadata": {},
   "outputs": [
    {
     "name": "stdout",
     "output_type": "stream",
     "text": [
      "WARNING:tensorflow:From /home/akshay/Ineuron/DeepLearning/my_projects/10_number_plate_rcog_pivitotal/object_detection/utils/label_map_util.py:132: The name tf.gfile.GFile is deprecated. Please use tf.io.gfile.GFile instead.\n",
      "\n"
     ]
    }
   ],
   "source": [
    "category_index = label_map_util.create_category_index_from_labelmap(PATH_TO_LABELS, use_display_name=True)"
   ]
  },
  {
   "cell_type": "code",
   "execution_count": 7,
   "metadata": {},
   "outputs": [],
   "source": [
    "#for images\n",
    "image_np=cv2.imread(\"bike4.jpeg\",1)\n",
    "image_np=cv2.cvtColor(image_np,cv2.COLOR_BGR2RGB)\n",
    "image_np=cv2.resize(image_np, (800,600))"
   ]
  },
  {
   "cell_type": "code",
   "execution_count": null,
   "metadata": {},
   "outputs": [
    {
     "name": "stderr",
     "output_type": "stream",
     "text": [
      "CUDA not available - defaulting to CPU. Note: This module is much faster with a GPU.\n"
     ]
    }
   ],
   "source": [
    "# run reader oject of ocr only once\n",
    "reader=ocr.Reader(['en'])"
   ]
  },
  {
   "cell_type": "code",
   "execution_count": 52,
   "metadata": {},
   "outputs": [
    {
     "name": "stdout",
     "output_type": "stream",
     "text": [
      "saved images sucessfully\n",
      "after pandas\n"
     ]
    }
   ],
   "source": [
    "with detection_graph.as_default():\n",
    "    with tf.Session(graph=detection_graph) as sess:\n",
    "        while True:\n",
    "            #ret, image_np = cap.read()\n",
    "            \n",
    "            #number of plate want to detect\n",
    "            num_plate_detect = 1\n",
    "            \n",
    "            #detecting threshold value\n",
    "            score_thresh = 0.5\n",
    "            \n",
    "            \n",
    "            # Expand dimensions since the model expects images to have shape: [1, None, None, 3]\n",
    "            image_np_expanded = np.expand_dims(image_np, axis=0)\n",
    "            image_tensor = detection_graph.get_tensor_by_name('image_tensor:0')\n",
    "            \n",
    "            \n",
    "            # Each box represents a part of the image where a particular object was detected.\n",
    "            boxes = detection_graph.get_tensor_by_name('detection_boxes:0')\n",
    "            \n",
    "            \n",
    "            \n",
    "            # Each score represent how level of confidence for each of the objects.\n",
    "            # Score is shown on the result image, together with the class label.\n",
    "            scores = detection_graph.get_tensor_by_name('detection_scores:0')\n",
    "            \n",
    "            classes = detection_graph.get_tensor_by_name('detection_classes:0')\n",
    "            \n",
    "            num_detections = detection_graph.get_tensor_by_name('num_detections:0')\n",
    "            \n",
    "            #shape of image\n",
    "            img_height, img_width, img_channel = image_np.shape\n",
    "        \n",
    "            \n",
    "            # Actual detection.\n",
    "            (boxes, scores, classes, num_detections) = sess.run([boxes, scores, classes, num_detections],feed_dict={image_tensor: image_np_expanded})\n",
    "            \n",
    "            boxes = np.squeeze(boxes)\n",
    "            classes = np.squeeze(classes).astype(np.int32)\n",
    "            scores = np.squeeze(scores)\n",
    "            \n",
    "            #saving bbox images\n",
    "            image_np1=cv2.imread(\"bike1.jpg\",1)\n",
    "            image_np1=cv2.cvtColor(image_np1,cv2.COLOR_BGR2RGB)\n",
    "            image_np1=cv2.resize(image_np1, (800,600))\n",
    "            \n",
    "            min_score_thresh=0.20\n",
    "            for j in range(0,num_plate_detect):\n",
    "                true_boxes = boxes[j][scores[j] > min_score_thresh]\n",
    "                for i in range(true_boxes.shape[0]):\n",
    "                    ymin = int(true_boxes[i,0]*img_height)\n",
    "                    xmin = int(true_boxes[i,1]*img_width)\n",
    "                    ymax = int(true_boxes[i,2]*img_height)\n",
    "                    xmax = int(true_boxes[i,3]*img_width)\n",
    "                    \n",
    "                    # increasing height and width of bbox for improving accuracy of ocr\n",
    "                    ymax=ymax+30\n",
    "                    xmax=xmax+30\n",
    "                    ymin=ymin-20\n",
    "                    xmin=xmin-20\n",
    "                    \n",
    "                    \n",
    "                    \n",
    "                    roi = image_np1[ymin:ymax,xmin:xmax]\n",
    "                    cv2.imwrite(\"box2_{}.png\".format(str(j)), roi)\n",
    "                    \n",
    "                print('saved images sucessfully')   \n",
    "            \n",
    "            # ocr\n",
    "            lst=[]\n",
    "            for k in range(0,num_plate_detect):\n",
    "                output=reader.readtext('box2_'+str(k)+'.png')\n",
    "                lst.append(output[0][1])\n",
    "                \n",
    "            # saving numbesrs in dataframe    \n",
    "            name_plates = pd.DataFrame(lst) \n",
    "            \n",
    "            print('after pandas')\n",
    "            break\n",
    "            \n",
    "              \n",
    "                    "
   ]
  },
  {
   "cell_type": "code",
   "execution_count": 50,
   "metadata": {},
   "outputs": [
    {
     "data": {
      "text/plain": [
       "'VIRGINIA'"
      ]
     },
     "execution_count": 50,
     "metadata": {},
     "output_type": "execute_result"
    }
   ],
   "source": [
    "output[0][1]"
   ]
  },
  {
   "cell_type": "code",
   "execution_count": 38,
   "metadata": {},
   "outputs": [
    {
     "data": {
      "text/html": [
       "<div>\n",
       "<style scoped>\n",
       "    .dataframe tbody tr th:only-of-type {\n",
       "        vertical-align: middle;\n",
       "    }\n",
       "\n",
       "    .dataframe tbody tr th {\n",
       "        vertical-align: top;\n",
       "    }\n",
       "\n",
       "    .dataframe thead th {\n",
       "        text-align: right;\n",
       "    }\n",
       "</style>\n",
       "<table border=\"1\" class=\"dataframe\">\n",
       "  <thead>\n",
       "    <tr style=\"text-align: right;\">\n",
       "      <th></th>\n",
       "      <th>0</th>\n",
       "    </tr>\n",
       "  </thead>\n",
       "  <tbody>\n",
       "    <tr>\n",
       "      <th>0</th>\n",
       "      <td>FW3999G</td>\n",
       "    </tr>\n",
       "  </tbody>\n",
       "</table>\n",
       "</div>"
      ],
      "text/plain": [
       "         0\n",
       "0  FW3999G"
      ]
     },
     "execution_count": 38,
     "metadata": {},
     "output_type": "execute_result"
    }
   ],
   "source": [
    "name_plates.head()"
   ]
  },
  {
   "cell_type": "code",
   "execution_count": 1,
   "metadata": {},
   "outputs": [],
   "source": [
    "import easyocr as ocr"
   ]
  },
  {
   "cell_type": "code",
   "execution_count": null,
   "metadata": {},
   "outputs": [],
   "source": [
    "#below command is not nessesarry to run every time.execute only once"
   ]
  },
  {
   "cell_type": "code",
   "execution_count": 4,
   "metadata": {},
   "outputs": [
    {
     "name": "stderr",
     "output_type": "stream",
     "text": [
      "Using CPU. Note: This module is much faster with a GPU.\n"
     ]
    }
   ],
   "source": [
    "reader=ocr.Reader(['en'], gpu=False)"
   ]
  },
  {
   "cell_type": "code",
   "execution_count": 22,
   "metadata": {},
   "outputs": [],
   "source": [
    "#for images\n",
    "image_np2=cv2.imread(\"box2_1.jpg\",1)\n",
    "#image_np2=cv2.cvtColor(image_np2,cv2.COLOR_BGR2GRAY)\n"
   ]
  },
  {
   "cell_type": "code",
   "execution_count": 24,
   "metadata": {},
   "outputs": [],
   "source": [
    "cv2.imshow('test image',image_np2)"
   ]
  },
  {
   "cell_type": "code",
   "execution_count": 44,
   "metadata": {},
   "outputs": [],
   "source": [
    "output=reader.readtext('rsz_car2.png')"
   ]
  },
  {
   "cell_type": "code",
   "execution_count": 45,
   "metadata": {},
   "outputs": [
    {
     "data": {
      "text/plain": [
       "'KA O1 MR 8O41'"
      ]
     },
     "execution_count": 45,
     "metadata": {},
     "output_type": "execute_result"
    }
   ],
   "source": [
    "output[0][1]"
   ]
  },
  {
   "cell_type": "code",
   "execution_count": 54,
   "metadata": {},
   "outputs": [
    {
     "data": {
      "text/plain": [
       "337"
      ]
     },
     "execution_count": 54,
     "metadata": {},
     "output_type": "execute_result"
    }
   ],
   "source": [
    "ymin"
   ]
  },
  {
   "cell_type": "code",
   "execution_count": 55,
   "metadata": {},
   "outputs": [
    {
     "data": {
      "text/plain": [
       "328"
      ]
     },
     "execution_count": 55,
     "metadata": {},
     "output_type": "execute_result"
    }
   ],
   "source": [
    "xmin"
   ]
  },
  {
   "cell_type": "code",
   "execution_count": 56,
   "metadata": {},
   "outputs": [
    {
     "data": {
      "text/plain": [
       "376"
      ]
     },
     "execution_count": 56,
     "metadata": {},
     "output_type": "execute_result"
    }
   ],
   "source": [
    "ymax"
   ]
  },
  {
   "cell_type": "code",
   "execution_count": 57,
   "metadata": {},
   "outputs": [
    {
     "data": {
      "text/plain": [
       "486"
      ]
     },
     "execution_count": 57,
     "metadata": {},
     "output_type": "execute_result"
    }
   ],
   "source": [
    "xmax"
   ]
  },
  {
   "cell_type": "code",
   "execution_count": null,
   "metadata": {},
   "outputs": [],
   "source": []
  },
  {
   "cell_type": "code",
   "execution_count": null,
   "metadata": {},
   "outputs": [],
   "source": []
  },
  {
   "cell_type": "code",
   "execution_count": null,
   "metadata": {},
   "outputs": [],
   "source": []
  },
  {
   "cell_type": "code",
   "execution_count": 21,
   "metadata": {},
   "outputs": [
    {
     "data": {
      "text/plain": [
       "array([0.7307348 , 0.7712253 , 0.83410513, 0.99031705], dtype=float32)"
      ]
     },
     "execution_count": 21,
     "metadata": {},
     "output_type": "execute_result"
    }
   ],
   "source": [
    "boxes[0]"
   ]
  },
  {
   "cell_type": "code",
   "execution_count": 22,
   "metadata": {},
   "outputs": [
    {
     "data": {
      "text/plain": [
       "0.90186703"
      ]
     },
     "execution_count": 22,
     "metadata": {},
     "output_type": "execute_result"
    }
   ],
   "source": [
    "scores[0]"
   ]
  },
  {
   "cell_type": "code",
   "execution_count": 23,
   "metadata": {},
   "outputs": [
    {
     "data": {
      "text/plain": [
       "array([0.19576216, 0.7713361 , 0.27873734, 0.97685444], dtype=float32)"
      ]
     },
     "execution_count": 23,
     "metadata": {},
     "output_type": "execute_result"
    }
   ],
   "source": [
    "boxes[1]"
   ]
  },
  {
   "cell_type": "code",
   "execution_count": 24,
   "metadata": {},
   "outputs": [
    {
     "data": {
      "text/plain": [
       "0.7146764"
      ]
     },
     "execution_count": 24,
     "metadata": {},
     "output_type": "execute_result"
    }
   ],
   "source": [
    "scores[1]"
   ]
  },
  {
   "cell_type": "code",
   "execution_count": 25,
   "metadata": {},
   "outputs": [
    {
     "data": {
      "text/plain": [
       "array([0.6242862 , 0.01157075, 1.        , 0.5537578 ], dtype=float32)"
      ]
     },
     "execution_count": 25,
     "metadata": {},
     "output_type": "execute_result"
    }
   ],
   "source": [
    "boxes[3]"
   ]
  },
  {
   "cell_type": "code",
   "execution_count": 26,
   "metadata": {},
   "outputs": [
    {
     "data": {
      "text/plain": [
       "0.001011014"
      ]
     },
     "execution_count": 26,
     "metadata": {},
     "output_type": "execute_result"
    }
   ],
   "source": [
    "scores[3]"
   ]
  },
  {
   "cell_type": "code",
   "execution_count": 11,
   "metadata": {},
   "outputs": [
    {
     "name": "stdout",
     "output_type": "stream",
     "text": [
      "Package                            Version                     \r\n",
      "---------------------------------- ----------------------------\r\n",
      "absl-py                            0.9.0                       \r\n",
      "alabaster                          0.7.12                      \r\n",
      "anaconda-client                    1.7.2                       \r\n",
      "anaconda-navigator                 1.9.12                      \r\n",
      "anaconda-project                   0.8.3                       \r\n",
      "argh                               0.26.2                      \r\n",
      "asn1crypto                         1.3.0                       \r\n",
      "astor                              0.8.1                       \r\n",
      "astroid                            2.3.3                       \r\n",
      "astropy                            4.0                         \r\n",
      "astunparse                         1.6.3                       \r\n",
      "atomicwrites                       1.3.0                       \r\n",
      "attrs                              19.3.0                      \r\n",
      "autopep8                           1.4.4                       \r\n",
      "Babel                              2.8.0                       \r\n",
      "backcall                           0.1.0                       \r\n",
      "backports.functools-lru-cache      1.6.1                       \r\n",
      "backports.shutil-get-terminal-size 1.0.0                       \r\n",
      "backports.tempfile                 1.0                         \r\n",
      "backports.weakref                  1.0.post1                   \r\n",
      "beautifulsoup4                     4.8.2                       \r\n",
      "bitarray                           1.2.1                       \r\n",
      "bkcharts                           0.2                         \r\n",
      "bleach                             3.1.0                       \r\n",
      "blinker                            1.4                         \r\n",
      "bokeh                              1.4.0                       \r\n",
      "boto                               2.49.0                      \r\n",
      "Bottleneck                         1.3.2                       \r\n",
      "cachetools                         4.1.0                       \r\n",
      "certifi                            2019.11.28                  \r\n",
      "cffi                               1.14.0                      \r\n",
      "chardet                            3.0.4                       \r\n",
      "chart-studio                       1.1.0                       \r\n",
      "Click                              7.0                         \r\n",
      "cloudpickle                        1.3.0                       \r\n",
      "clyent                             1.2.2                       \r\n",
      "colorama                           0.4.3                       \r\n",
      "colorlover                         0.3.0                       \r\n",
      "conda                              4.8.3                       \r\n",
      "conda-build                        3.18.11                     \r\n",
      "conda-package-handling             1.6.0                       \r\n",
      "conda-verify                       3.4.2                       \r\n",
      "contextlib2                        0.6.0.post1                 \r\n",
      "cryptography                       2.8                         \r\n",
      "cufflinks                          0.17.3                      \r\n",
      "cycler                             0.10.0                      \r\n",
      "Cython                             0.29.15                     \r\n",
      "cytoolz                            0.10.1                      \r\n",
      "dask                               2.11.0                      \r\n",
      "decorator                          4.4.1                       \r\n",
      "defusedxml                         0.6.0                       \r\n",
      "diff-match-patch                   20181111                    \r\n",
      "distributed                        2.11.0                      \r\n",
      "docutils                           0.16                        \r\n",
      "easyocr                            1.1.6                       \r\n",
      "entrypoints                        0.3                         \r\n",
      "et-xmlfile                         1.0.1                       \r\n",
      "fastcache                          1.1.0                       \r\n",
      "filelock                           3.0.12                      \r\n",
      "flake8                             3.7.9                       \r\n",
      "Flask                              1.1.1                       \r\n",
      "fsspec                             0.6.2                       \r\n",
      "future                             0.18.2                      \r\n",
      "gast                               0.3.3                       \r\n",
      "gevent                             1.4.0                       \r\n",
      "glob2                              0.7                         \r\n",
      "gmpy2                              2.0.8                       \r\n",
      "google-auth                        1.16.0                      \r\n",
      "google-auth-oauthlib               0.4.1                       \r\n",
      "google-pasta                       0.2.0                       \r\n",
      "graphviz                           0.14.1                      \r\n",
      "greenlet                           0.4.15                      \r\n",
      "grpcio                             1.29.0                      \r\n",
      "h5py                               2.10.0                      \r\n",
      "HeapDict                           1.0.1                       \r\n",
      "html5lib                           1.0.1                       \r\n",
      "hypothesis                         5.5.4                       \r\n",
      "idna                               2.8                         \r\n",
      "imageio                            2.6.1                       \r\n",
      "imagesize                          1.2.0                       \r\n",
      "importlib-metadata                 1.6.0                       \r\n",
      "intervaltree                       3.0.2                       \r\n",
      "ipykernel                          5.1.4                       \r\n",
      "ipython                            7.12.0                      \r\n",
      "ipython-genutils                   0.2.0                       \r\n",
      "ipywidgets                         7.5.1                       \r\n",
      "isort                              4.3.21                      \r\n",
      "itsdangerous                       1.1.0                       \r\n",
      "jdcal                              1.4.1                       \r\n",
      "jedi                               0.14.1                      \r\n",
      "jeepney                            0.4.2                       \r\n",
      "Jinja2                             2.11.1                      \r\n",
      "joblib                             0.14.1                      \r\n",
      "json5                              0.9.1                       \r\n",
      "jsonschema                         3.2.0                       \r\n",
      "jupyter                            1.0.0                       \r\n",
      "jupyter-client                     5.3.4                       \r\n",
      "jupyter-console                    6.1.0                       \r\n",
      "jupyter-core                       4.6.1                       \r\n",
      "jupyterlab                         1.2.6                       \r\n",
      "jupyterlab-server                  1.0.6                       \r\n",
      "Keras                              2.3.1                       \r\n",
      "Keras-Applications                 1.0.8                       \r\n",
      "Keras-Preprocessing                1.1.2                       \r\n",
      "keyring                            21.1.0                      \r\n",
      "kiwisolver                         1.1.0                       \r\n",
      "lazy-object-proxy                  1.4.3                       \r\n",
      "libarchive-c                       2.8                         \r\n",
      "lief                               0.9.0                       \r\n",
      "llvmlite                           0.31.0                      \r\n",
      "locket                             0.2.0                       \r\n",
      "lxml                               4.5.0                       \r\n",
      "Markdown                           3.2.2                       \r\n",
      "MarkupSafe                         1.1.1                       \r\n",
      "matplotlib                         3.1.3                       \r\n",
      "mccabe                             0.6.1                       \r\n",
      "mistune                            0.8.4                       \r\n",
      "mkl-fft                            1.0.15                      \r\n",
      "mkl-random                         1.1.0                       \r\n",
      "mkl-service                        2.3.0                       \r\n",
      "mock                               4.0.1                       \r\n",
      "more-itertools                     8.2.0                       \r\n",
      "mpmath                             1.1.0                       \r\n",
      "msgpack                            0.6.1                       \r\n",
      "multipledispatch                   0.6.0                       \r\n",
      "navigator-updater                  0.2.1                       \r\n",
      "nbconvert                          5.6.1                       \r\n",
      "nbformat                           5.0.4                       \r\n",
      "networkx                           2.4                         \r\n",
      "nltk                               3.4.5                       \r\n",
      "nose                               1.3.7                       \r\n",
      "notebook                           6.0.3                       \r\n",
      "numba                              0.48.0                      \r\n",
      "numexpr                            2.7.1                       \r\n",
      "numpy                              1.18.1                      \r\n",
      "numpydoc                           0.9.2                       \r\n",
      "oauthlib                           3.0.1                       \r\n",
      "olefile                            0.46                        \r\n",
      "opencv-python                      4.3.0.38                    \r\n",
      "openpyxl                           3.0.3                       \r\n",
      "opt-einsum                         0+untagged.56.g2664021.dirty\r\n",
      "packaging                          20.1                        \r\n",
      "pandas                             1.0.1                       \r\n",
      "pandocfilters                      1.4.2                       \r\n",
      "parso                              0.5.2                       \r\n",
      "partd                              1.1.0                       \r\n",
      "path                               13.1.0                      \r\n",
      "pathlib2                           2.3.5                       \r\n",
      "pathtools                          0.1.2                       \r\n",
      "patsy                              0.5.1                       \r\n",
      "pep8                               1.7.1                       \r\n",
      "pexpect                            4.8.0                       \r\n",
      "pickleshare                        0.7.5                       \r\n",
      "Pillow                             7.0.0                       \r\n",
      "pip                                20.0.2                      \r\n",
      "pkginfo                            1.5.0.1                     \r\n",
      "plotly                             4.9.0                       \r\n",
      "pluggy                             0.13.1                      \r\n",
      "ply                                3.11                        \r\n",
      "prometheus-client                  0.7.1                       \r\n",
      "prompt-toolkit                     3.0.3                       \r\n",
      "protobuf                           3.12.2                      \r\n",
      "psutil                             5.6.7                       \r\n",
      "ptyprocess                         0.6.0                       \r\n",
      "py                                 1.8.1                       \r\n",
      "pyasn1                             0.4.8                       \r\n",
      "pyasn1-modules                     0.2.7                       \r\n",
      "pycodestyle                        2.5.0                       \r\n",
      "pycosat                            0.6.3                       \r\n",
      "pycparser                          2.19                        \r\n",
      "pycrypto                           2.6.1                       \r\n",
      "pycurl                             7.43.0.5                    \r\n",
      "pydocstyle                         4.0.1                       \r\n",
      "pydotplus                          2.0.2                       \r\n",
      "pyflakes                           2.1.1                       \r\n",
      "Pygments                           2.5.2                       \r\n",
      "PyJWT                              1.7.1                       \r\n",
      "pylint                             2.4.4                       \r\n",
      "pyodbc                             4.0.0-unsupported           \r\n",
      "pyOpenSSL                          19.1.0                      \r\n",
      "pyparsing                          2.4.6                       \r\n",
      "pyrsistent                         0.15.7                      \r\n",
      "PySocks                            1.7.1                       \r\n",
      "pytest                             5.3.5                       \r\n",
      "pytest-arraydiff                   0.3                         \r\n",
      "pytest-astropy                     0.8.0                       \r\n",
      "pytest-astropy-header              0.1.2                       \r\n",
      "pytest-doctestplus                 0.5.0                       \r\n",
      "pytest-openfiles                   0.4.0                       \r\n",
      "pytest-remotedata                  0.3.2                       \r\n",
      "python-bidi                        0.4.2                       \r\n",
      "python-dateutil                    2.8.1                       \r\n",
      "python-jsonrpc-server              0.3.4                       \r\n",
      "python-language-server             0.31.7                      \r\n",
      "pytz                               2019.3                      \r\n",
      "PyWavelets                         1.1.1                       \r\n",
      "pyxdg                              0.26                        \r\n",
      "PyYAML                             5.3                         \r\n",
      "pyzmq                              18.1.1                      \r\n",
      "QDarkStyle                         2.8                         \r\n",
      "QtAwesome                          0.6.1                       \r\n",
      "qtconsole                          4.6.0                       \r\n",
      "QtPy                               1.9.0                       \r\n",
      "requests                           2.22.0                      \r\n",
      "requests-oauthlib                  1.2.0                       \r\n",
      "retrying                           1.3.3                       \r\n",
      "rope                               0.16.0                      \r\n",
      "rsa                                4.0                         \r\n",
      "Rtree                              0.9.3                       \r\n",
      "ruamel-yaml                        0.15.87                     \r\n",
      "scikit-image                       0.16.2                      \r\n",
      "scikit-learn                       0.22.1                      \r\n",
      "scipy                              1.4.1                       \r\n",
      "seaborn                            0.10.0                      \r\n",
      "SecretStorage                      3.1.2                       \r\n",
      "Send2Trash                         1.5.0                       \r\n",
      "setuptools                         45.2.0.post20200210         \r\n",
      "simplegeneric                      0.8.1                       \r\n",
      "singledispatch                     3.4.0.3                     \r\n",
      "six                                1.14.0                      \r\n",
      "snowballstemmer                    2.0.0                       \r\n",
      "sortedcollections                  1.1.2                       \r\n",
      "sortedcontainers                   2.1.0                       \r\n",
      "soupsieve                          1.9.5                       \r\n",
      "Sphinx                             2.4.0                       \r\n",
      "sphinxcontrib-applehelp            1.0.1                       \r\n",
      "sphinxcontrib-devhelp              1.0.1                       \r\n",
      "sphinxcontrib-htmlhelp             1.0.2                       \r\n",
      "sphinxcontrib-jsmath               1.0.1                       \r\n",
      "sphinxcontrib-qthelp               1.0.2                       \r\n",
      "sphinxcontrib-serializinghtml      1.1.3                       \r\n",
      "sphinxcontrib-websupport           1.2.0                       \r\n",
      "spyder                             4.0.1                       \r\n",
      "spyder-kernels                     1.8.1                       \r\n",
      "SQLAlchemy                         1.3.13                      \r\n",
      "statsmodels                        0.11.0                      \r\n",
      "sympy                              1.5.1                       \r\n",
      "tables                             3.6.1                       \r\n",
      "tblib                              1.6.0                       \r\n",
      "tensorboard                        2.2.1                       \r\n",
      "tensorboard-plugin-wit             1.6.0                       \r\n",
      "tensorflow                         2.2.0                       \r\n",
      "tensorflow-estimator               2.2.0                       \r\n",
      "termcolor                          1.1.0                       \r\n",
      "terminado                          0.8.3                       \r\n",
      "testpath                           0.4.4                       \r\n",
      "toolz                              0.10.0                      \r\n",
      "torch                              1.5.0                       \r\n",
      "torchvision                        0.6.0a0+82fd1c8             \r\n",
      "tornado                            6.0.3                       \r\n",
      "tqdm                               4.42.1                      \r\n",
      "traitlets                          4.3.3                       \r\n",
      "ujson                              1.35                        \r\n",
      "unicodecsv                         0.14.1                      \r\n",
      "urllib3                            1.25.8                      \r\n",
      "watchdog                           0.10.2                      \r\n",
      "wcwidth                            0.1.8                       \r\n",
      "webencodings                       0.5.1                       \r\n",
      "Werkzeug                           1.0.0                       \r\n",
      "wheel                              0.34.2                      \r\n",
      "widgetsnbextension                 3.5.1                       \r\n",
      "wrapt                              1.11.2                      \r\n",
      "wurlitzer                          2.0.0                       \r\n",
      "xlrd                               1.2.0                       \r\n",
      "XlsxWriter                         1.2.7                       \r\n",
      "xlwt                               1.3.0                       \r\n",
      "xmltodict                          0.12.0                      \r\n",
      "yapf                               0.28.0                      \r\n",
      "zict                               1.0.0                       \r\n",
      "zipp                               2.2.0                       \r\n"
     ]
    },
    {
     "name": "stdout",
     "output_type": "stream",
     "text": [
      "Note: you may need to restart the kernel to use updated packages.\n"
     ]
    }
   ],
   "source": [
    "pip list"
   ]
  },
  {
   "cell_type": "code",
   "execution_count": null,
   "metadata": {},
   "outputs": [],
   "source": []
  },
  {
   "cell_type": "code",
   "execution_count": null,
   "metadata": {},
   "outputs": [],
   "source": []
  },
  {
   "cell_type": "code",
   "execution_count": null,
   "metadata": {},
   "outputs": [],
   "source": []
  },
  {
   "cell_type": "code",
   "execution_count": null,
   "metadata": {},
   "outputs": [],
   "source": [
    "#increasing height of bbox"
   ]
  },
  {
   "cell_type": "code",
   "execution_count": 103,
   "metadata": {},
   "outputs": [],
   "source": [
    "ymax=ymax+25\n",
    "xmax=xmax+25\n",
    "ymin=ymin-20\n",
    "xmin=xmin-15"
   ]
  },
  {
   "cell_type": "code",
   "execution_count": 104,
   "metadata": {},
   "outputs": [],
   "source": [
    "image_np1=cv2.imread(\"multiple_no_plate.jpg\",1)\n",
    "image_np1=cv2.cvtColor(image_np1,cv2.COLOR_BGR2RGB)\n",
    "image_np1=cv2.resize(image_np1, (800,600))"
   ]
  },
  {
   "cell_type": "code",
   "execution_count": 105,
   "metadata": {},
   "outputs": [
    {
     "ename": "SystemError",
     "evalue": "<built-in function imwrite> returned NULL without setting an error",
     "output_type": "error",
     "traceback": [
      "\u001b[0;31m---------------------------------------------------------------------------\u001b[0m",
      "\u001b[0;31mSystemError\u001b[0m                               Traceback (most recent call last)",
      "\u001b[0;32m<ipython-input-105-f9cedd9d5057>\u001b[0m in \u001b[0;36m<module>\u001b[0;34m\u001b[0m\n\u001b[1;32m      1\u001b[0m \u001b[0mroi\u001b[0m \u001b[0;34m=\u001b[0m \u001b[0mimage_np1\u001b[0m\u001b[0;34m[\u001b[0m\u001b[0mymin\u001b[0m\u001b[0;34m:\u001b[0m\u001b[0mymax\u001b[0m\u001b[0;34m,\u001b[0m\u001b[0mxmin\u001b[0m\u001b[0;34m:\u001b[0m\u001b[0mxmax\u001b[0m\u001b[0;34m]\u001b[0m\u001b[0;34m\u001b[0m\u001b[0;34m\u001b[0m\u001b[0m\n\u001b[0;32m----> 2\u001b[0;31m \u001b[0mcv2\u001b[0m\u001b[0;34m.\u001b[0m\u001b[0mimwrite\u001b[0m\u001b[0;34m(\u001b[0m\u001b[0;34m\"test_new_3.png\"\u001b[0m\u001b[0;34m,\u001b[0m\u001b[0mroi\u001b[0m\u001b[0;34m,\u001b[0m\u001b[0mcv2\u001b[0m\u001b[0;34m.\u001b[0m\u001b[0mCOLOR_BGR2RGB\u001b[0m\u001b[0;34m)\u001b[0m\u001b[0;34m\u001b[0m\u001b[0;34m\u001b[0m\u001b[0m\n\u001b[0m",
      "\u001b[0;31mSystemError\u001b[0m: <built-in function imwrite> returned NULL without setting an error"
     ]
    }
   ],
   "source": [
    "roi = image_np1[ymin:ymax,xmin:xmax]\n",
    "cv2.imwrite(\"test_new_3.png\",roi)"
   ]
  },
  {
   "cell_type": "code",
   "execution_count": 108,
   "metadata": {},
   "outputs": [],
   "source": [
    "output=reader.readtext('box7_1.png')"
   ]
  },
  {
   "cell_type": "code",
   "execution_count": 109,
   "metadata": {},
   "outputs": [
    {
     "data": {
      "text/plain": [
       "'DL7CMoZ50'"
      ]
     },
     "execution_count": 109,
     "metadata": {},
     "output_type": "execute_result"
    }
   ],
   "source": [
    "output[0][1]"
   ]
  },
  {
   "cell_type": "code",
   "execution_count": 7,
   "metadata": {},
   "outputs": [],
   "source": [
    "filename1=\"akshay_hjj_jsgt122_7hy.jpg\""
   ]
  },
  {
   "cell_type": "code",
   "execution_count": 8,
   "metadata": {},
   "outputs": [],
   "source": [
    "filename2=\"bachgroung1111_0ikjhy_jpeg.jpeg\""
   ]
  },
  {
   "cell_type": "code",
   "execution_count": 9,
   "metadata": {},
   "outputs": [],
   "source": [
    "filename=\"akshay.png\""
   ]
  },
  {
   "cell_type": "code",
   "execution_count": 17,
   "metadata": {},
   "outputs": [
    {
     "data": {
      "text/plain": [
       "'png'"
      ]
     },
     "execution_count": 17,
     "metadata": {},
     "output_type": "execute_result"
    }
   ],
   "source": [
    "s=filename.split(\".\")\n",
    "a=s[-1]\n",
    "a"
   ]
  },
  {
   "cell_type": "code",
   "execution_count": 21,
   "metadata": {},
   "outputs": [
    {
     "data": {
      "text/plain": [
       "'PNG'"
      ]
     },
     "execution_count": 21,
     "metadata": {},
     "output_type": "execute_result"
    }
   ],
   "source": [
    "a=a.upper()\n",
    "a"
   ]
  },
  {
   "cell_type": "code",
   "execution_count": 24,
   "metadata": {},
   "outputs": [
    {
     "data": {
      "text/plain": [
       "str"
      ]
     },
     "execution_count": 24,
     "metadata": {},
     "output_type": "execute_result"
    }
   ],
   "source": [
    "type(a)"
   ]
  },
  {
   "cell_type": "code",
   "execution_count": 11,
   "metadata": {},
   "outputs": [
    {
     "data": {
      "text/plain": [
       "['akshay', 'png']"
      ]
     },
     "execution_count": 11,
     "metadata": {},
     "output_type": "execute_result"
    }
   ],
   "source": [
    "s"
   ]
  },
  {
   "cell_type": "code",
   "execution_count": 18,
   "metadata": {},
   "outputs": [
    {
     "data": {
      "text/plain": [
       "'jpg'"
      ]
     },
     "execution_count": 18,
     "metadata": {},
     "output_type": "execute_result"
    }
   ],
   "source": [
    "e=filename1.split(\".\")\n",
    "b=e[-1]\n",
    "b"
   ]
  },
  {
   "cell_type": "code",
   "execution_count": 22,
   "metadata": {},
   "outputs": [
    {
     "data": {
      "text/plain": [
       "'JPG'"
      ]
     },
     "execution_count": 22,
     "metadata": {},
     "output_type": "execute_result"
    }
   ],
   "source": [
    "b=b.upper()\n",
    "b"
   ]
  },
  {
   "cell_type": "code",
   "execution_count": 19,
   "metadata": {},
   "outputs": [
    {
     "data": {
      "text/plain": [
       "'jpeg'"
      ]
     },
     "execution_count": 19,
     "metadata": {},
     "output_type": "execute_result"
    }
   ],
   "source": [
    "w=filename2.split(\".\")\n",
    "c=w[-1]\n",
    "c"
   ]
  },
  {
   "cell_type": "code",
   "execution_count": 23,
   "metadata": {},
   "outputs": [
    {
     "data": {
      "text/plain": [
       "'JPEG'"
      ]
     },
     "execution_count": 23,
     "metadata": {},
     "output_type": "execute_result"
    }
   ],
   "source": [
    "c=c.upper()\n",
    "c"
   ]
  },
  {
   "cell_type": "code",
   "execution_count": 27,
   "metadata": {},
   "outputs": [],
   "source": [
    "detected_images=\"folder\"\n",
    "j=0"
   ]
  },
  {
   "cell_type": "code",
   "execution_count": 28,
   "metadata": {},
   "outputs": [],
   "source": [
    "s=detected_images+\"box_{}.png\".format(str(j))"
   ]
  },
  {
   "cell_type": "code",
   "execution_count": 29,
   "metadata": {},
   "outputs": [
    {
     "data": {
      "text/plain": [
       "'folderbox_0.png'"
      ]
     },
     "execution_count": 29,
     "metadata": {},
     "output_type": "execute_result"
    }
   ],
   "source": [
    "s"
   ]
  },
  {
   "cell_type": "code",
   "execution_count": 37,
   "metadata": {},
   "outputs": [],
   "source": [
    "import os\n",
    "image_files = '/home/akshay/Ineuron/DeepLearning/my_projects/10_number_plate_rcog_pivitotal/detected_number_plate'\n",
    "list_of_files = os.listdir(image_files)"
   ]
  },
  {
   "cell_type": "code",
   "execution_count": 38,
   "metadata": {},
   "outputs": [
    {
     "data": {
      "text/plain": [
       "['box7_0.png', 'box1_0.png', 'box1_1.png', 'box0_0.png']"
      ]
     },
     "execution_count": 38,
     "metadata": {},
     "output_type": "execute_result"
    }
   ],
   "source": [
    "list_of_files"
   ]
  },
  {
   "cell_type": "code",
   "execution_count": 39,
   "metadata": {},
   "outputs": [
    {
     "data": {
      "text/plain": [
       "4"
      ]
     },
     "execution_count": 39,
     "metadata": {},
     "output_type": "execute_result"
    }
   ],
   "source": [
    "len(list_of_files)"
   ]
  },
  {
   "cell_type": "code",
   "execution_count": null,
   "metadata": {},
   "outputs": [],
   "source": []
  },
  {
   "cell_type": "code",
   "execution_count": null,
   "metadata": {},
   "outputs": [],
   "source": []
  },
  {
   "cell_type": "code",
   "execution_count": null,
   "metadata": {},
   "outputs": [],
   "source": [
    "#detecting states"
   ]
  },
  {
   "cell_type": "code",
   "execution_count": 14,
   "metadata": {},
   "outputs": [],
   "source": [
    "output='KA O1 MR 8O41'"
   ]
  },
  {
   "cell_type": "code",
   "execution_count": 15,
   "metadata": {},
   "outputs": [
    {
     "data": {
      "text/plain": [
       "'KA O1 MR 8O41'"
      ]
     },
     "execution_count": 15,
     "metadata": {},
     "output_type": "execute_result"
    }
   ],
   "source": [
    "output"
   ]
  },
  {
   "cell_type": "code",
   "execution_count": 16,
   "metadata": {},
   "outputs": [],
   "source": [
    "output1 = 'DL7CMoZ50'"
   ]
  },
  {
   "cell_type": "code",
   "execution_count": 17,
   "metadata": {},
   "outputs": [
    {
     "data": {
      "text/plain": [
       "'DL7CMoZ50'"
      ]
     },
     "execution_count": 17,
     "metadata": {},
     "output_type": "execute_result"
    }
   ],
   "source": [
    "output1"
   ]
  },
  {
   "cell_type": "code",
   "execution_count": 6,
   "metadata": {},
   "outputs": [
    {
     "data": {
      "text/plain": [
       "'KA'"
      ]
     },
     "execution_count": 6,
     "metadata": {},
     "output_type": "execute_result"
    }
   ],
   "source": [
    "output[0:2]"
   ]
  },
  {
   "cell_type": "code",
   "execution_count": 7,
   "metadata": {},
   "outputs": [
    {
     "data": {
      "text/plain": [
       "'DL'"
      ]
     },
     "execution_count": 7,
     "metadata": {},
     "output_type": "execute_result"
    }
   ],
   "source": [
    "output1[0:2]"
   ]
  },
  {
   "cell_type": "code",
   "execution_count": 8,
   "metadata": {},
   "outputs": [
    {
     "data": {
      "text/plain": [
       "13"
      ]
     },
     "execution_count": 8,
     "metadata": {},
     "output_type": "execute_result"
    }
   ],
   "source": [
    "len(output)"
   ]
  },
  {
   "cell_type": "code",
   "execution_count": 12,
   "metadata": {},
   "outputs": [
    {
     "data": {
      "text/plain": [
       "['KA', 'O1', 'MR', '8O41']"
      ]
     },
     "execution_count": 12,
     "metadata": {},
     "output_type": "execute_result"
    }
   ],
   "source": [
    "a=output.split()\n",
    "a"
   ]
  },
  {
   "cell_type": "code",
   "execution_count": 13,
   "metadata": {},
   "outputs": [
    {
     "data": {
      "text/plain": [
       "['DL7CMoZ50']"
      ]
     },
     "execution_count": 13,
     "metadata": {},
     "output_type": "execute_result"
    }
   ],
   "source": [
    "b=output1.split()\n",
    "b"
   ]
  },
  {
   "cell_type": "code",
   "execution_count": 14,
   "metadata": {},
   "outputs": [
    {
     "data": {
      "text/plain": [
       "4"
      ]
     },
     "execution_count": 14,
     "metadata": {},
     "output_type": "execute_result"
    }
   ],
   "source": [
    "len(a)"
   ]
  },
  {
   "cell_type": "code",
   "execution_count": 15,
   "metadata": {},
   "outputs": [
    {
     "data": {
      "text/plain": [
       "1"
      ]
     },
     "execution_count": 15,
     "metadata": {},
     "output_type": "execute_result"
    }
   ],
   "source": [
    "len(b)"
   ]
  },
  {
   "cell_type": "code",
   "execution_count": 6,
   "metadata": {},
   "outputs": [
    {
     "data": {
      "text/plain": [
       "'KAO1MR8O41'"
      ]
     },
     "execution_count": 6,
     "metadata": {},
     "output_type": "execute_result"
    }
   ],
   "source": [
    "c=output.replace(\" \",\"\")\n",
    "c"
   ]
  },
  {
   "cell_type": "code",
   "execution_count": 7,
   "metadata": {},
   "outputs": [
    {
     "data": {
      "text/plain": [
       "'DL7CMoZ50'"
      ]
     },
     "execution_count": 7,
     "metadata": {},
     "output_type": "execute_result"
    }
   ],
   "source": [
    "d=output1.replace(\" \",\"\")\n",
    "d"
   ]
  },
  {
   "cell_type": "code",
   "execution_count": null,
   "metadata": {},
   "outputs": [],
   "source": []
  },
  {
   "cell_type": "code",
   "execution_count": 54,
   "metadata": {},
   "outputs": [],
   "source": [
    "output=\"d2u7589\"\n",
    "output1=\"m20hg475\""
   ]
  },
  {
   "cell_type": "code",
   "execution_count": 55,
   "metadata": {},
   "outputs": [],
   "source": [
    "first_state1=[]\n",
    "c=output.replace(\" \",\"\")\n",
    "for i in range(len(c)):\n",
    "    if (output[i].isalpha()):\n",
    "        if len(first_state1)!= 2:\n",
    "            first_state1.append(output[i])\n",
    "            \n",
    "                       "
   ]
  },
  {
   "cell_type": "code",
   "execution_count": 56,
   "metadata": {},
   "outputs": [
    {
     "data": {
      "text/plain": [
       "['d', 'u']"
      ]
     },
     "execution_count": 56,
     "metadata": {},
     "output_type": "execute_result"
    }
   ],
   "source": [
    "first_state1"
   ]
  },
  {
   "cell_type": "code",
   "execution_count": 57,
   "metadata": {},
   "outputs": [
    {
     "data": {
      "text/plain": [
       "'DU'"
      ]
     },
     "execution_count": 57,
     "metadata": {},
     "output_type": "execute_result"
    }
   ],
   "source": [
    "# initialize an empty string \n",
    "str1 = \"\" \n",
    "state=str1.join(first_state1)\n",
    "state=state.upper()\n",
    "state"
   ]
  },
  {
   "cell_type": "code",
   "execution_count": 58,
   "metadata": {},
   "outputs": [],
   "source": [
    "first_state2=[]\n",
    "c=output1.replace(\" \",\"\")\n",
    "for i in range(len(c)):\n",
    "    if (output1[i].isalpha()):\n",
    "        if len(first_state2)!= 2:\n",
    "            first_state2.append(output1[i])\n",
    "            \n",
    "                       "
   ]
  },
  {
   "cell_type": "code",
   "execution_count": 59,
   "metadata": {},
   "outputs": [
    {
     "data": {
      "text/plain": [
       "['m', 'h']"
      ]
     },
     "execution_count": 59,
     "metadata": {},
     "output_type": "execute_result"
    }
   ],
   "source": [
    "first_state2"
   ]
  },
  {
   "cell_type": "code",
   "execution_count": 60,
   "metadata": {},
   "outputs": [
    {
     "data": {
      "text/plain": [
       "'MH'"
      ]
     },
     "execution_count": 60,
     "metadata": {},
     "output_type": "execute_result"
    }
   ],
   "source": [
    "# initialize an empty string \n",
    "str1 = \"\" \n",
    "state=str1.join(first_state2)\n",
    "state=state.upper()\n",
    "state"
   ]
  },
  {
   "cell_type": "code",
   "execution_count": null,
   "metadata": {},
   "outputs": [],
   "source": []
  },
  {
   "cell_type": "code",
   "execution_count": null,
   "metadata": {},
   "outputs": [],
   "source": []
  },
  {
   "cell_type": "code",
   "execution_count": 110,
   "metadata": {},
   "outputs": [],
   "source": [
    "output1=\"An a 2u7589\""
   ]
  },
  {
   "cell_type": "code",
   "execution_count": 62,
   "metadata": {},
   "outputs": [],
   "source": [
    "states={\"AN\":\"Andaman and Nicobar\",\"AP\":\"Andhra Pradesh\",\"AR\":\"Arunachal Pradesh\",\"AS\":\"Assam\",\"BR\":\"Bihar\",\n",
    "        \"CH\":\"Chandigarh\",\"DN\":\"Dadra and Nagar Haveli\",\"DD\":\"Daman and Diu\",\"DL\":\"Delhi\",\"GA\":\"Goa\",\"GJ\":\"Gujarat\",\n",
    "        \"HR\":\"Haryana\",\"HP\":\"Himachal Pradesh\",\"JK\":\"Jammu and Kashmir\",\"KA\":\"Karnataka\",\"KL\":\"Kerala\",\"LD\":\"Lakshadweep\",\n",
    "        \"MP\":\"Madhya Pradesh\",\"MH\":\"Maharashtra\",\"MN\":\"Manipur\",\"ML\":\"Meghalaya\",\"MZ\":\"Mizoram\",\"NL\":\"Nagaland\",\"OD\":\"Odissa\",\n",
    "        \"PY\":\"Pondicherry\",\"PN\":\"Punjab\",\"RJ\":\"Rajasthan\",\"SK\":\"Sikkim\",\"TN\":\"TamilNadu\",\"TR\":\"Tripura\",\"UP\":\"Uttar Pradesh\",\n",
    "        \"WB\":\"West Bengal\",\"CG\":\"Chhattisgarh\",\"TS\":\"Telangana\",\"JH\":\"Jharkhand\",\"UK\":\"Uttarakhand\"}"
   ]
  },
  {
   "cell_type": "code",
   "execution_count": 111,
   "metadata": {},
   "outputs": [
    {
     "data": {
      "text/plain": [
       "'AN'"
      ]
     },
     "execution_count": 111,
     "metadata": {},
     "output_type": "execute_result"
    }
   ],
   "source": [
    "first_state2=[]\n",
    "output1=output1.replace(\" \",\"\")\n",
    "for i in range(len(output1)):\n",
    "    if (output1[i].isalpha()):\n",
    "        if len(first_state2)!= 2:\n",
    "            first_state2.append(output1[i])\n",
    "            \n",
    "# initialize an empty string \n",
    "str1 = \"\" \n",
    "code=str1.join(first_state2)\n",
    "code=code.upper()\n",
    "code            "
   ]
  },
  {
   "cell_type": "code",
   "execution_count": 112,
   "metadata": {},
   "outputs": [
    {
     "data": {
      "text/plain": [
       "'Andaman and Nicobar'"
      ]
     },
     "execution_count": 112,
     "metadata": {},
     "output_type": "execute_result"
    }
   ],
   "source": [
    "states[code]"
   ]
  },
  {
   "cell_type": "code",
   "execution_count": null,
   "metadata": {},
   "outputs": [],
   "source": []
  },
  {
   "cell_type": "code",
   "execution_count": 113,
   "metadata": {},
   "outputs": [
    {
     "data": {
      "text/plain": [
       "str"
      ]
     },
     "execution_count": 113,
     "metadata": {},
     "output_type": "execute_result"
    }
   ],
   "source": [
    "type(code)"
   ]
  },
  {
   "cell_type": "code",
   "execution_count": 114,
   "metadata": {},
   "outputs": [
    {
     "data": {
      "text/plain": [
       "'./static/maps/AN.jpg'"
      ]
     },
     "execution_count": 114,
     "metadata": {},
     "output_type": "execute_result"
    }
   ],
   "source": [
    "image_url=\"./static/maps/\"+str(code)+\".jpg\"\n",
    "image_url"
   ]
  },
  {
   "cell_type": "code",
   "execution_count": 116,
   "metadata": {},
   "outputs": [],
   "source": [
    "import os\n",
    "list_of_files = os.listdir(\"/home/akshay/Ineuron/DeepLearning/my_projects/10_number_plate_rcog_pivitotal/detected_number_plate\")\n",
    "no_of_images = len(list_of_files)"
   ]
  },
  {
   "cell_type": "code",
   "execution_count": 117,
   "metadata": {},
   "outputs": [
    {
     "data": {
      "text/plain": [
       "0"
      ]
     },
     "execution_count": 117,
     "metadata": {},
     "output_type": "execute_result"
    }
   ],
   "source": [
    "no_of_images"
   ]
  },
  {
   "cell_type": "code",
   "execution_count": null,
   "metadata": {},
   "outputs": [],
   "source": []
  },
  {
   "cell_type": "code",
   "execution_count": 118,
   "metadata": {},
   "outputs": [],
   "source": [
    "import pandas as pd"
   ]
  },
  {
   "cell_type": "code",
   "execution_count": 119,
   "metadata": {},
   "outputs": [],
   "source": [
    "empty_lst = [\"k]"
   ]
  },
  {
   "cell_type": "code",
   "execution_count": 122,
   "metadata": {},
   "outputs": [],
   "source": [
    "empty_lst = [\"mh01e8041\"]"
   ]
  },
  {
   "cell_type": "code",
   "execution_count": 137,
   "metadata": {},
   "outputs": [],
   "source": [
    "final_output=\"ka01r3452\"\n",
    "final_state=\"karnataka\""
   ]
  },
  {
   "cell_type": "code",
   "execution_count": 138,
   "metadata": {},
   "outputs": [],
   "source": [
    "name_plates = pd.DataFrame(columns=[\"State\",\"Number\"])"
   ]
  },
  {
   "cell_type": "code",
   "execution_count": 139,
   "metadata": {},
   "outputs": [
    {
     "data": {
      "text/html": [
       "<div>\n",
       "<style scoped>\n",
       "    .dataframe tbody tr th:only-of-type {\n",
       "        vertical-align: middle;\n",
       "    }\n",
       "\n",
       "    .dataframe tbody tr th {\n",
       "        vertical-align: top;\n",
       "    }\n",
       "\n",
       "    .dataframe thead th {\n",
       "        text-align: right;\n",
       "    }\n",
       "</style>\n",
       "<table border=\"1\" class=\"dataframe\">\n",
       "  <thead>\n",
       "    <tr style=\"text-align: right;\">\n",
       "      <th></th>\n",
       "      <th>State</th>\n",
       "      <th>Number</th>\n",
       "    </tr>\n",
       "  </thead>\n",
       "  <tbody>\n",
       "  </tbody>\n",
       "</table>\n",
       "</div>"
      ],
      "text/plain": [
       "Empty DataFrame\n",
       "Columns: [State, Number]\n",
       "Index: []"
      ]
     },
     "execution_count": 139,
     "metadata": {},
     "output_type": "execute_result"
    }
   ],
   "source": [
    "name_plates"
   ]
  },
  {
   "cell_type": "code",
   "execution_count": null,
   "metadata": {},
   "outputs": [],
   "source": []
  }
 ],
 "metadata": {
  "kernelspec": {
   "display_name": "Python 3",
   "language": "python",
   "name": "python3"
  },
  "language_info": {
   "codemirror_mode": {
    "name": "ipython",
    "version": 3
   },
   "file_extension": ".py",
   "mimetype": "text/x-python",
   "name": "python",
   "nbconvert_exporter": "python",
   "pygments_lexer": "ipython3",
   "version": "3.6.10"
  }
 },
 "nbformat": 4,
 "nbformat_minor": 4
}
